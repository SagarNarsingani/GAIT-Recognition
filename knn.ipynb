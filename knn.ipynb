{
 "cells": [
  {
   "cell_type": "code",
   "execution_count": null,
   "metadata": {},
   "outputs": [],
   "source": [
    "import cv2\n",
    "import os\n",
    "from math import sqrt \n",
    "import numpy as np\n",
    "\n",
    "from sklearn.metrics import accuracy_score\n",
    "from sklearn.neighbors import KNeighborsClassifier"
   ]
  },
  {
   "cell_type": "code",
   "execution_count": null,
   "metadata": {},
   "outputs": [],
   "source": [
    "def get_train_data(view):\n",
    "    x_train = []\n",
    "    y_train = []\n",
    "    for dir in os.listdir('./GEnIs/'):\n",
    "        for i in range(1, 5):\n",
    "            img = cv2.imread('./GEnIs/%s/nm-0%s-%s.png'%(dir, i, view), cv2.IMREAD_UNCHANGED)\n",
    "            if img is None: continue\n",
    "            img = img.flatten()\n",
    "            x_train.append(img/255)\n",
    "            y_train.append(dir)\n",
    "\n",
    "    x_train = np.array(x_train)\n",
    "    y_train = np.array(y_train)\n",
    "    return x_train, y_train"
   ]
  },
  {
   "cell_type": "code",
   "execution_count": null,
   "metadata": {},
   "outputs": [],
   "source": [
    "def get_test_data(view):\n",
    "    x_test = []\n",
    "    y_test = []\n",
    "\n",
    "    for dir in os.listdir('./GEnIs/'):\n",
    "        for i in range(5, 7):\n",
    "            img = cv2.imread('./GEnIs/%s/nm-0%s-%s.png'%(dir, i, view), cv2.IMREAD_UNCHANGED)\n",
    "            if img is None: continue\n",
    "            img = img.flatten()\n",
    "            x_test.append(img/255)\n",
    "            y_test.append(dir)\n",
    "\n",
    "    x_test = np.array(x_test)\n",
    "    y_test = np.array(y_test)\n",
    "    return x_test, y_test"
   ]
  },
  {
   "cell_type": "code",
   "execution_count": null,
   "metadata": {},
   "outputs": [],
   "source": [
    "views = ['000', '018', '036', '054', '072', '090', '108', '126', '144', '162', '180']"
   ]
  },
  {
   "cell_type": "code",
   "execution_count": null,
   "metadata": {},
   "outputs": [],
   "source": [
    "for i in views:\n",
    "    x_train, y_train = get_train_data(i)\n",
    "\n",
    "    # stadardization\n",
    "    x_mean = np.mean(x_train, axis=0)\n",
    "    x_train = x_train - x_mean\n",
    "\n",
    "    for j in views:\n",
    "        print(i, j)\n",
    "        x_test, y_test = get_test_data(j)\n",
    "\n",
    "        # standardization\n",
    "        x_test = x_test - x_mean\n",
    "\n",
    "        # K Nearest Neighbours\n",
    "        knn = KNeighborsClassifier(n_neighbors=1)\n",
    "        knn.fit(x_train, y_train)\n",
    "        print(knn.score(x_test, y_test))"
   ]
  }
 ],
 "metadata": {
  "language_info": {
   "name": "python"
  },
  "orig_nbformat": 4
 },
 "nbformat": 4,
 "nbformat_minor": 2
}
