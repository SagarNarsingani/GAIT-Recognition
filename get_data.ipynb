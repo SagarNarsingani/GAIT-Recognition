{
 "cells": [
  {
   "cell_type": "code",
   "execution_count": 1,
   "metadata": {},
   "outputs": [],
   "source": [
    "import glob\n",
    "import shutil\n",
    "import os\n",
    "from numpy import random \n"
   ]
  },
  {
   "cell_type": "code",
   "execution_count": 2,
   "metadata": {},
   "outputs": [],
   "source": [
    "def get_id(subject):\n",
    "    sub = str(subject)\n",
    "    if(len(sub)==1): sub = '00' + sub\n",
    "    elif(len(sub)==2): sub = '0' + sub\n",
    "    return sub\n",
    "\n",
    "subjects = 124\n",
    "subject_ids = [get_id(i) for i in range(1, subjects+1)] "
   ]
  },
  {
   "attachments": {},
   "cell_type": "markdown",
   "metadata": {},
   "source": [
    "`Training`: 74 random classes "
   ]
  },
  {
   "cell_type": "code",
   "execution_count": 3,
   "metadata": {},
   "outputs": [],
   "source": [
    "classes = []\n",
    "for i in range(74):\n",
    "    label = random.choice(subject_ids)\n",
    "    while label in classes:\n",
    "        label = random.choice(subject_ids)\n",
    "    classes.append(label)\n",
    "\n",
    "# files = glob.glob('./training_data/*')\n",
    "# for f in files:\n",
    "#     shutil.rmtree(f)\n",
    "\n",
    "# for sub in classes:\n",
    "#     shutil.copytree('./GEnIs/%s'%sub, './training_data/%s'%sub)"
   ]
  }
 ],
 "metadata": {
  "kernelspec": {
   "display_name": "Python 3",
   "language": "python",
   "name": "python3"
  },
  "language_info": {
   "codemirror_mode": {
    "name": "ipython",
    "version": 3
   },
   "file_extension": ".py",
   "mimetype": "text/x-python",
   "name": "python",
   "nbconvert_exporter": "python",
   "pygments_lexer": "ipython3",
   "version": "3.10.5"
  },
  "orig_nbformat": 4
 },
 "nbformat": 4,
 "nbformat_minor": 2
}
